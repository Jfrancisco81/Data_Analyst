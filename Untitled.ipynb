{
 "cells": [
  {
   "cell_type": "code",
   "execution_count": null,
   "id": "dffff305-abfa-43c6-84d7-8c5a0f90e551",
   "metadata": {
    "tags": []
   },
   "outputs": [],
   "source": [
    "pip install mitosheet"
   ]
  },
  {
   "cell_type": "code",
   "execution_count": null,
   "id": "ae06d7b6-4e95-453f-b3e8-92cd070e0df5",
   "metadata": {
    "tags": []
   },
   "outputs": [],
   "source": [
    "import mitosheet"
   ]
  },
  {
   "cell_type": "code",
   "execution_count": null,
   "id": "951c1840-fada-430a-b354-7304c0c84003",
   "metadata": {},
   "outputs": [],
   "source": []
  }
 ],
 "metadata": {
  "kernelspec": {
   "display_name": "Python 3 (ipykernel)",
   "language": "python",
   "name": "python3"
  },
  "language_info": {
   "codemirror_mode": {
    "name": "ipython",
    "version": 3
   },
   "file_extension": ".py",
   "mimetype": "text/x-python",
   "name": "python",
   "nbconvert_exporter": "python",
   "pygments_lexer": "ipython3",
   "version": "3.7.9"
  }
 },
 "nbformat": 4,
 "nbformat_minor": 5
}
